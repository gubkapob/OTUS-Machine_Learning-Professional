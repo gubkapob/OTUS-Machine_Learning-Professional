{
 "cells": [
  {
   "cell_type": "markdown",
   "metadata": {},
   "source": [
    "ДЗ по теме: RECO_SYSTEM"
   ]
  },
  {
   "cell_type": "code",
   "execution_count": 19,
   "metadata": {},
   "outputs": [],
   "source": [
    "import pandas as pd\n",
    "import gzip\n",
    "import json"
   ]
  },
  {
   "cell_type": "code",
   "execution_count": 20,
   "outputs": [],
   "source": [
    "# формируем json файл\n",
    "def parse(path):\n",
    "  g = gzip.open(path, 'rb')\n",
    "  for l in g:\n",
    "    yield json.loads(l)\n",
    "\n",
    "# формируем датафрейм из json файла\n",
    "def getDF(path):\n",
    "  i = 0\n",
    "  df = {}\n",
    "  for d in parse(path):\n",
    "    df[i] = d\n",
    "    i += 1\n",
    "  return pd.DataFrame.from_dict(df, orient='index')"
   ],
   "metadata": {
    "collapsed": false,
    "pycharm": {
     "name": "#%%\n"
    }
   }
  },
  {
   "cell_type": "code",
   "execution_count": 21,
   "metadata": {},
   "outputs": [],
   "source": [
    "dataset = getDF(\"../OTUS-Machine-Learning_Professional\\data\\Video_Games_5.json.gz\")"
   ]
  },
  {
   "cell_type": "code",
   "execution_count": 22,
   "metadata": {},
   "outputs": [
    {
     "data": {
      "text/plain": "        overall  verified   reviewTime      reviewerID        asin  \\\n0           5.0      True  10 17, 2015  A1HP7NVNPFMA4N  0700026657   \n1           4.0     False  07 27, 2015  A1JGAP0185YJI6  0700026657   \n2           3.0      True  02 23, 2015  A1YJWEXHQBWK2B  0700026657   \n3           2.0      True  02 20, 2015  A2204E1TH211HT  0700026657   \n4           5.0      True  12 25, 2014  A2RF5B5H74JLPE  0700026657   \n...         ...       ...          ...             ...         ...   \n497572      4.0      True   07 1, 2017   AVECM71LSZLC5  B01HGPUTCA   \n497573      3.0      True  08 20, 2018  A1RS06313BL6WN  B01HH6JEOC   \n497574      3.0      True   08 7, 2017   ACIZ77IGIX2JL  B01HH6JEOC   \n497575      4.0     False   08 5, 2018  A34GG58TJ1A3SH  B01HIZF7XE   \n497576      2.0      True  03 13, 2018   A6W81WTFK940B  B01HIZGKOE   \n\n             reviewerName                                         reviewText  \\\n0             Ambrosia075  This game is a bit hard to get the hang of, bu...   \n1                  travis  I played it a while but it was alright. The st...   \n2       Vincent G. Mezera                                           ok game.   \n3              Grandma KR  found the game a bit too complicated, not what...   \n4                     jon  great game, I love it and have played it since...   \n...                   ...                                                ...   \n497572   boris teplitskiy                 not OEM but good replacement parts   \n497573       Tom Stopsign                                        Okay stuff.   \n497574                Era  This does add some kids room things that are v...   \n497575        seamonkey10  I think I originally began playing Bioshock se...   \n497576            msam420  The graphics are terrible, it looks like ps2 g...   \n\n                                            summary  unixReviewTime vote  \\\n0                       but when you do it's great.      1445040000  NaN   \n1       But in spite of that it was fun, I liked it      1437955200  NaN   \n2                                       Three Stars      1424649600  NaN   \n3                                         Two Stars      1424390400  NaN   \n4                                    love this game      1419465600  NaN   \n...                                             ...             ...  ...   \n497572                                   Four Stars      1498867200  NaN   \n497573                                  Three Stars      1534723200  NaN   \n497574                            Only buy on sale.      1502064000  NaN   \n497575                  It's Okay, Nothing Profound      1533427200  NaN   \n497576           Not as good as I expected it to be      1520899200  NaN   \n\n                                                    style image  \n0                                                     NaN   NaN  \n1                                                     NaN   NaN  \n2                                                     NaN   NaN  \n3                                                     NaN   NaN  \n4                                                     NaN   NaN  \n...                                                   ...   ...  \n497572                                                NaN   NaN  \n497573  {'Edition:': ' Kids Room', 'Platform:': ' PC O...   NaN  \n497574  {'Edition:': ' Kids Room', 'Platform:': ' PC O...   NaN  \n497575  {'Edition:': ' Collection', 'Platform:': ' Xbo...   NaN  \n497576                                                NaN   NaN  \n\n[497577 rows x 12 columns]",
      "text/html": "<div>\n<style scoped>\n    .dataframe tbody tr th:only-of-type {\n        vertical-align: middle;\n    }\n\n    .dataframe tbody tr th {\n        vertical-align: top;\n    }\n\n    .dataframe thead th {\n        text-align: right;\n    }\n</style>\n<table border=\"1\" class=\"dataframe\">\n  <thead>\n    <tr style=\"text-align: right;\">\n      <th></th>\n      <th>overall</th>\n      <th>verified</th>\n      <th>reviewTime</th>\n      <th>reviewerID</th>\n      <th>asin</th>\n      <th>reviewerName</th>\n      <th>reviewText</th>\n      <th>summary</th>\n      <th>unixReviewTime</th>\n      <th>vote</th>\n      <th>style</th>\n      <th>image</th>\n    </tr>\n  </thead>\n  <tbody>\n    <tr>\n      <th>0</th>\n      <td>5.0</td>\n      <td>True</td>\n      <td>10 17, 2015</td>\n      <td>A1HP7NVNPFMA4N</td>\n      <td>0700026657</td>\n      <td>Ambrosia075</td>\n      <td>This game is a bit hard to get the hang of, bu...</td>\n      <td>but when you do it's great.</td>\n      <td>1445040000</td>\n      <td>NaN</td>\n      <td>NaN</td>\n      <td>NaN</td>\n    </tr>\n    <tr>\n      <th>1</th>\n      <td>4.0</td>\n      <td>False</td>\n      <td>07 27, 2015</td>\n      <td>A1JGAP0185YJI6</td>\n      <td>0700026657</td>\n      <td>travis</td>\n      <td>I played it a while but it was alright. The st...</td>\n      <td>But in spite of that it was fun, I liked it</td>\n      <td>1437955200</td>\n      <td>NaN</td>\n      <td>NaN</td>\n      <td>NaN</td>\n    </tr>\n    <tr>\n      <th>2</th>\n      <td>3.0</td>\n      <td>True</td>\n      <td>02 23, 2015</td>\n      <td>A1YJWEXHQBWK2B</td>\n      <td>0700026657</td>\n      <td>Vincent G. Mezera</td>\n      <td>ok game.</td>\n      <td>Three Stars</td>\n      <td>1424649600</td>\n      <td>NaN</td>\n      <td>NaN</td>\n      <td>NaN</td>\n    </tr>\n    <tr>\n      <th>3</th>\n      <td>2.0</td>\n      <td>True</td>\n      <td>02 20, 2015</td>\n      <td>A2204E1TH211HT</td>\n      <td>0700026657</td>\n      <td>Grandma KR</td>\n      <td>found the game a bit too complicated, not what...</td>\n      <td>Two Stars</td>\n      <td>1424390400</td>\n      <td>NaN</td>\n      <td>NaN</td>\n      <td>NaN</td>\n    </tr>\n    <tr>\n      <th>4</th>\n      <td>5.0</td>\n      <td>True</td>\n      <td>12 25, 2014</td>\n      <td>A2RF5B5H74JLPE</td>\n      <td>0700026657</td>\n      <td>jon</td>\n      <td>great game, I love it and have played it since...</td>\n      <td>love this game</td>\n      <td>1419465600</td>\n      <td>NaN</td>\n      <td>NaN</td>\n      <td>NaN</td>\n    </tr>\n    <tr>\n      <th>...</th>\n      <td>...</td>\n      <td>...</td>\n      <td>...</td>\n      <td>...</td>\n      <td>...</td>\n      <td>...</td>\n      <td>...</td>\n      <td>...</td>\n      <td>...</td>\n      <td>...</td>\n      <td>...</td>\n      <td>...</td>\n    </tr>\n    <tr>\n      <th>497572</th>\n      <td>4.0</td>\n      <td>True</td>\n      <td>07 1, 2017</td>\n      <td>AVECM71LSZLC5</td>\n      <td>B01HGPUTCA</td>\n      <td>boris teplitskiy</td>\n      <td>not OEM but good replacement parts</td>\n      <td>Four Stars</td>\n      <td>1498867200</td>\n      <td>NaN</td>\n      <td>NaN</td>\n      <td>NaN</td>\n    </tr>\n    <tr>\n      <th>497573</th>\n      <td>3.0</td>\n      <td>True</td>\n      <td>08 20, 2018</td>\n      <td>A1RS06313BL6WN</td>\n      <td>B01HH6JEOC</td>\n      <td>Tom Stopsign</td>\n      <td>Okay stuff.</td>\n      <td>Three Stars</td>\n      <td>1534723200</td>\n      <td>NaN</td>\n      <td>{'Edition:': ' Kids Room', 'Platform:': ' PC O...</td>\n      <td>NaN</td>\n    </tr>\n    <tr>\n      <th>497574</th>\n      <td>3.0</td>\n      <td>True</td>\n      <td>08 7, 2017</td>\n      <td>ACIZ77IGIX2JL</td>\n      <td>B01HH6JEOC</td>\n      <td>Era</td>\n      <td>This does add some kids room things that are v...</td>\n      <td>Only buy on sale.</td>\n      <td>1502064000</td>\n      <td>NaN</td>\n      <td>{'Edition:': ' Kids Room', 'Platform:': ' PC O...</td>\n      <td>NaN</td>\n    </tr>\n    <tr>\n      <th>497575</th>\n      <td>4.0</td>\n      <td>False</td>\n      <td>08 5, 2018</td>\n      <td>A34GG58TJ1A3SH</td>\n      <td>B01HIZF7XE</td>\n      <td>seamonkey10</td>\n      <td>I think I originally began playing Bioshock se...</td>\n      <td>It's Okay, Nothing Profound</td>\n      <td>1533427200</td>\n      <td>NaN</td>\n      <td>{'Edition:': ' Collection', 'Platform:': ' Xbo...</td>\n      <td>NaN</td>\n    </tr>\n    <tr>\n      <th>497576</th>\n      <td>2.0</td>\n      <td>True</td>\n      <td>03 13, 2018</td>\n      <td>A6W81WTFK940B</td>\n      <td>B01HIZGKOE</td>\n      <td>msam420</td>\n      <td>The graphics are terrible, it looks like ps2 g...</td>\n      <td>Not as good as I expected it to be</td>\n      <td>1520899200</td>\n      <td>NaN</td>\n      <td>NaN</td>\n      <td>NaN</td>\n    </tr>\n  </tbody>\n</table>\n<p>497577 rows × 12 columns</p>\n</div>"
     },
     "execution_count": 22,
     "metadata": {},
     "output_type": "execute_result"
    }
   ],
   "source": [
    "dataset"
   ]
  },
  {
   "cell_type": "code",
   "execution_count": 24,
   "outputs": [
    {
     "name": "stdout",
     "output_type": "stream",
     "text": [
      "4.220456331381876\n"
     ]
    }
   ],
   "source": [
    "# check data stage\n",
    "ratings = []\n",
    "\n",
    "for review in parse(\"../OTUS-Machine-Learning_Professional\\data\\Video_Games_5.json.gz\"):\n",
    "  ratings.append(review['overall'])\n",
    "\n",
    "print (sum(ratings) / len(ratings))"
   ],
   "metadata": {
    "collapsed": false,
    "pycharm": {
     "name": "#%%\n"
    }
   }
  }
 ],
 "metadata": {
  "kernelspec": {
   "display_name": "Python 3.8.1 64-bit",
   "language": "python",
   "name": "python3"
  },
  "language_info": {
   "codemirror_mode": {
    "name": "ipython",
    "version": 3
   },
   "file_extension": ".py",
   "mimetype": "text/x-python",
   "name": "python",
   "nbconvert_exporter": "python",
   "pygments_lexer": "ipython3",
   "version": "3.8.1"
  },
  "orig_nbformat": 4,
  "vscode": {
   "interpreter": {
    "hash": "28bab2661145804427e0fba89f10050e6efcc7fd9aa618a6a4ed2efa9baaf364"
   }
  }
 },
 "nbformat": 4,
 "nbformat_minor": 2
}